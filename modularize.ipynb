{
 "cells": [
  {
   "cell_type": "code",
   "execution_count": 127,
   "id": "0eba298c",
   "metadata": {},
   "outputs": [],
   "source": [
    "import glob\n",
    "import os\n",
    "import json\n",
    "import re\n",
    "import pandas as pd"
   ]
  },
  {
   "cell_type": "code",
   "execution_count": 128,
   "id": "e6c6ab09",
   "metadata": {},
   "outputs": [],
   "source": [
    "def get_column_names(schemas, table):\n",
    "    return [col['column_name'] for col in sorted(schemas[table], key=lambda col: int(col[\"column_position\"]))]"
   ]
  },
  {
   "cell_type": "code",
   "execution_count": 129,
   "id": "f27f2090",
   "metadata": {},
   "outputs": [],
   "source": [
    "def read_csv(file, schemas):\n",
    "    ds_names = re.split('[/\\\\\\\\]', file)[-2]\n",
    "    column_names = get_column_names(schemas,  ds_names)\n",
    "    return pd.read_csv(file, header=None, names=column_names)"
   ]
  },
  {
   "cell_type": "code",
   "execution_count": 130,
   "id": "1f52f747",
   "metadata": {},
   "outputs": [],
   "source": [
    "def to_json(df, target_base_dir, ds_name, file_name):\n",
    "    json_file_path = f'{target_base_dir}/{ds_name}/{file_name}'\n",
    "    os.makedirs(f'{target_base_dir}/{ds_name}', exist_ok=True)\n",
    "    df.to_json(json_file_path, orient='records', lines=True)"
   ]
  },
  {
   "cell_type": "code",
   "execution_count": 131,
   "id": "d8dbf75f",
   "metadata": {},
   "outputs": [],
   "source": [
    "def file_converter(src_base_dir, target_base_dir, ds_name):\n",
    "    schemas = json.load(open(f'{src_base_dir}/schemas.json'))\n",
    "    files = glob.glob(f'{src_base_dir}/{ds_name}/part-*')\n",
    "    for file in files:\n",
    "        df = read_csv(file, schemas)\n",
    "        file_name = re.split('[/\\\\\\\\]', file)[-1]\n",
    "        to_json(df, target_base_dir, ds_name, file_name)"
   ]
  },
  {
   "cell_type": "code",
   "execution_count": 132,
   "id": "6bccbb67",
   "metadata": {},
   "outputs": [],
   "source": [
    "def process_files():\n",
    "    src_base_dir = 'data/retail_db'\n",
    "    target_base_dir = 'data/retail_db_json'\n",
    "    schemas = json.load(open(f'{src_base_dir}/schemas.json'))\n",
    "    ds_names = schemas.keys()\n",
    "    for ds_name in ds_names:\n",
    "        print(f'Processing {ds_name}')\n",
    "        file_converter(src_base_dir, target_base_dir, ds_name)\n"
   ]
  },
  {
   "cell_type": "code",
   "execution_count": 133,
   "id": "8129b9d3",
   "metadata": {},
   "outputs": [
    {
     "name": "stdout",
     "output_type": "stream",
     "text": [
      "Processing departments\n",
      "Processing categories\n",
      "Processing orders\n",
      "Processing products\n",
      "Processing customers\n",
      "Processing order_items\n",
      "Processing order_items\n"
     ]
    }
   ],
   "source": [
    "process_files()"
   ]
  }
 ],
 "metadata": {
  "kernelspec": {
   "display_name": ".venv",
   "language": "python",
   "name": "python3"
  },
  "language_info": {
   "codemirror_mode": {
    "name": "ipython",
    "version": 3
   },
   "file_extension": ".py",
   "mimetype": "text/x-python",
   "name": "python",
   "nbconvert_exporter": "python",
   "pygments_lexer": "ipython3",
   "version": "3.13.3"
  }
 },
 "nbformat": 4,
 "nbformat_minor": 5
}
