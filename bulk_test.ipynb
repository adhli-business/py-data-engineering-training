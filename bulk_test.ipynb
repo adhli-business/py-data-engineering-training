{
 "cells": [
  {
   "cell_type": "markdown",
   "id": "906e7fe5",
   "metadata": {},
   "source": [
    "Algoritma:\n",
    "1. Glob baca semua file pada direktori (data/retail_db/*/part*)\n",
    "2. Tentukan directory dan file asal yang akan dibaca (retail_db/orders/part-00000)\n",
    "3. Load Dataframe (read_csv dan tampilkan masing-masing shape)\n",
    "4. Tulis setiap dataframe dalam bentuk json ke target direktori dan file"
   ]
  },
  {
   "cell_type": "code",
   "execution_count": 118,
   "id": "50019758",
   "metadata": {},
   "outputs": [],
   "source": [
    "#1 Glob baca semua file pada direktori (data/retail_db/*/part*)\n",
    "import glob\n",
    "src_file_names = glob.glob('./data/retail_db/*/*')"
   ]
  },
  {
   "cell_type": "code",
   "execution_count": 119,
   "id": "3de4afd6",
   "metadata": {},
   "outputs": [
    {
     "name": "stdout",
     "output_type": "stream",
     "text": [
      "./data/retail_db_json/categories/part-00000\n",
      "./data/retail_db_json/customers/part-00000\n",
      "./data/retail_db_json/departments/part-00000\n",
      "./data/retail_db_json/orders/part-00000\n",
      "./data/retail_db_json/order_items/part-00000\n",
      "./data/retail_db_json/products/part-00000\n"
     ]
    }
   ],
   "source": [
    "#2 Tentukan directory dan file asal yang akan dibaca (retail_db/orders/part-00000)\n",
    "\n",
    "target_base_dir = './data/retail_db_json'\n",
    "\n",
    "for file in src_file_names:\n",
    "    file_rel_path = re.split('[/\\\\\\\\]', file)\n",
    "    table_name = file_rel_path[-2]\n",
    "    file_name = file_rel_path[-1]\n",
    "    print(f'{target_base_dir}/{table_name}/{file_name}')"
   ]
  },
  {
   "cell_type": "code",
   "execution_count": 120,
   "id": "421d1ccf",
   "metadata": {},
   "outputs": [],
   "source": [
    "#3 Load Dataframe (read_csv dan tampilkan masing-masing shape)\n",
    "for file in src_file_names:\n",
    "    file_path = re.split('[/\\\\\\\\]', file)\n",
    "    table_name = file_path[-2]\n",
    "    file_name = file_path[-1]\n",
    "    df = pd.read_csv(file, header=None, names=get_column_names(schemas, table_name))"
   ]
  },
  {
   "cell_type": "code",
   "execution_count": 121,
   "id": "f9086c94",
   "metadata": {},
   "outputs": [],
   "source": [
    "#4 Tulis setiap dataframe dalam bentuk json ke target direktori dan file\n",
    "for file in src_file_names:\n",
    "    file_path = re.split('[/\\\\\\\\]', file)\n",
    "    table_name = file_path[-2]\n",
    "    file_name = file_path[-1]\n",
    "    json_file_path = f'{target_base_dir}/{table_name}/{file_name}'\n",
    "    os.makedirs(f'{target_base_dir}/{table_name}', exist_ok=True)\n",
    "    df.to_json(json_file_path, orient='records', lines=True)"
   ]
  },
  {
   "cell_type": "markdown",
   "id": "28f4c012",
   "metadata": {},
   "source": [
    "\n",
    "Algoritma lainnya"
   ]
  },
  {
   "cell_type": "code",
   "execution_count": 122,
   "id": "60481fc7",
   "metadata": {},
   "outputs": [],
   "source": [
    "import pandas as pd\n",
    "import os\n",
    "import json\n",
    "import re\n",
    "import glob"
   ]
  },
  {
   "cell_type": "code",
   "execution_count": 123,
   "id": "235fcc2b",
   "metadata": {},
   "outputs": [
    {
     "data": {
      "text/plain": [
       "<_io.TextIOWrapper name='data/retail_db/schemas.json' mode='r' encoding='cp1252'>"
      ]
     },
     "execution_count": 123,
     "metadata": {},
     "output_type": "execute_result"
    }
   ],
   "source": [
    "file_path = 'data/retail_db/schemas.json'\n",
    "open(file_path, 'r')"
   ]
  },
  {
   "cell_type": "code",
   "execution_count": 124,
   "id": "6d7b27ae",
   "metadata": {},
   "outputs": [],
   "source": [
    "schemas = json.load(open(file_path, 'r')) #load dipakai untuk ambil dari files"
   ]
  },
  {
   "cell_type": "code",
   "execution_count": 125,
   "id": "bb49e7ff",
   "metadata": {},
   "outputs": [],
   "source": [
    "def get_column_names(schemas, table):\n",
    "    return [col['column_name'] for col in sorted(schemas[table], key=lambda col: int(col[\"column_position\"]))]"
   ]
  },
  {
   "cell_type": "code",
   "execution_count": 126,
   "id": "b2019fb4",
   "metadata": {},
   "outputs": [
    {
     "name": "stdout",
     "output_type": "stream",
     "text": [
      "./data/retail_db_json/categories/part-00000\n",
      "./data/retail_db_json/customers/part-00000\n",
      "./data/retail_db_json/departments/part-00000\n",
      "./data/retail_db_json/orders/part-00000\n",
      "./data/retail_db_json/order_items/part-00000\n",
      "./data/retail_db_json/products/part-00000\n"
     ]
    }
   ],
   "source": [
    "# target dir\n",
    "target_base_dir = './data/retail_db_json'\n",
    "\n",
    "src_file_names = glob.glob('./data/retail_db/*/*')\n",
    "\n",
    "for file in src_file_names:\n",
    "    file_rel_path = re.split('[/\\\\\\\\]', file)\n",
    "    table_name = file_rel_path[-2]\n",
    "    file_name = file_rel_path[-1]\n",
    "    print(f'{target_base_dir}/{table_name}/{file_name}')"
   ]
  },
  {
   "cell_type": "code",
   "execution_count": 127,
   "id": "4d96a3fa",
   "metadata": {},
   "outputs": [],
   "source": [
    "for file in src_file_names:\n",
    "    file_path = re.split('[/\\\\\\\\]', file)\n",
    "    table_name = file_path[-2]\n",
    "    file_name = file_path[-1]\n",
    "    os.makedirs(f'{target_base_dir}/{table_name}', exist_ok=True)\n",
    "    df = pd.read_csv(file, header=None, names=get_column_names(schemas, table_name))\n",
    "    df.to_json(f'{target_base_dir}/{table_name}/{file_name}', orient='records', lines=True)"
   ]
  }
 ],
 "metadata": {
  "kernelspec": {
   "display_name": ".venv",
   "language": "python",
   "name": "python3"
  },
  "language_info": {
   "codemirror_mode": {
    "name": "ipython",
    "version": 3
   },
   "file_extension": ".py",
   "mimetype": "text/x-python",
   "name": "python",
   "nbconvert_exporter": "python",
   "pygments_lexer": "ipython3",
   "version": "3.13.3"
  }
 },
 "nbformat": 4,
 "nbformat_minor": 5
}
