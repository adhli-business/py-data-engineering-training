{
 "cells": [
  {
   "cell_type": "code",
   "execution_count": 1,
   "id": "bad165cd",
   "metadata": {},
   "outputs": [
    {
     "name": "stdout",
     "output_type": "stream",
     "text": [
      "hello world\n"
     ]
    }
   ],
   "source": [
    "print(\"hello world\")"
   ]
  },
  {
   "cell_type": "code",
   "execution_count": 5,
   "id": "015ad3ca",
   "metadata": {},
   "outputs": [
    {
     "data": {
      "text/plain": [
       "[1, 2, 'xyz', 3.14]"
      ]
     },
     "execution_count": 5,
     "metadata": {},
     "output_type": "execute_result"
    }
   ],
   "source": [
    "list = [1,2,'xyz',3.14]\n",
    "list"
   ]
  },
  {
   "cell_type": "code",
   "execution_count": 12,
   "id": "696a2aac",
   "metadata": {},
   "outputs": [
    {
     "name": "stdout",
     "output_type": "stream",
     "text": [
      "['seribu', 2, 'xyz', 3.14]\n",
      "2\n",
      "['seribu', 2]\n",
      "3.14\n",
      "['seribu', 2, 'xyz', 3.14]\n",
      "['seribu', 2, 'xyz']\n"
     ]
    }
   ],
   "source": [
    "print(list)\n",
    "# access elemen ke-2\n",
    "print(list[1])\n",
    "print(list[:2])\n",
    "print(list[-1])\n",
    "list[0] = 'seribu'\n",
    "print(list)\n",
    "del list[-1]\n",
    "print(list)"
   ]
  },
  {
   "cell_type": "code",
   "execution_count": 15,
   "id": "9d9d3858",
   "metadata": {},
   "outputs": [
    {
     "name": "stdout",
     "output_type": "stream",
     "text": [
      "Elemen ke-0 adalah seribu\n",
      "Elemen ke-1 adalah 2\n",
      "Elemen ke-2 adalah xyz\n"
     ]
    }
   ],
   "source": [
    "i = 0\n",
    "for elemen in list:\n",
    "    print(f\"Elemen ke-{i} adalah {elemen}\")\n",
    "    i+=1"
   ]
  },
  {
   "cell_type": "code",
   "execution_count": 18,
   "id": "40a71267",
   "metadata": {},
   "outputs": [
    {
     "name": "stdout",
     "output_type": "stream",
     "text": [
      "1\n",
      "3\n",
      "5\n",
      "7\n",
      "9\n"
     ]
    }
   ],
   "source": [
    "for i in range(1,10,2): #start,stop,step\n",
    "    print(i)"
   ]
  },
  {
   "cell_type": "code",
   "execution_count": 20,
   "id": "9c964913",
   "metadata": {},
   "outputs": [
    {
     "name": "stdout",
     "output_type": "stream",
     "text": [
      "3\n"
     ]
    },
    {
     "data": {
      "text/plain": [
       "range(0, 10)"
      ]
     },
     "execution_count": 20,
     "metadata": {},
     "output_type": "execute_result"
    }
   ],
   "source": [
    "print(len(list))\n",
    "range(10)"
   ]
  },
  {
   "cell_type": "code",
   "execution_count": 24,
   "id": "c9f1b987",
   "metadata": {},
   "outputs": [
    {
     "name": "stdout",
     "output_type": "stream",
     "text": [
      "Elemen ke-0 adalah seribu\n",
      "Elemen ke-1 adalah 2\n",
      "Elemen ke-2 adalah xyz\n"
     ]
    }
   ],
   "source": [
    "for i in range(len(list)):\n",
    "    print(f\"Elemen ke-{i} adalah {list[i]}\")"
   ]
  },
  {
   "cell_type": "code",
   "execution_count": null,
   "id": "95cd4349",
   "metadata": {},
   "outputs": [
    {
     "data": {
      "text/plain": [
       "[1, 2, 3, 4, 5, 6, 7, 8, 9, 10]"
      ]
     },
     "execution_count": 26,
     "metadata": {},
     "output_type": "execute_result"
    }
   ],
   "source": [
    "# buat list 1 sampai 10 dengan list comprehension\n",
    "# [expr for elemen in iterable]\n",
    "[i for i in range(1, 11)]"
   ]
  },
  {
   "cell_type": "code",
   "execution_count": 27,
   "id": "5d1b8960",
   "metadata": {},
   "outputs": [
    {
     "data": {
      "text/plain": [
       "[1, 4, 9, 16, 25, 36, 49, 64, 81, 100]"
      ]
     },
     "execution_count": 27,
     "metadata": {},
     "output_type": "execute_result"
    }
   ],
   "source": [
    "[i**2 for i in range(1, 11)]  # list comprehension dengan operasi"
   ]
  },
  {
   "cell_type": "code",
   "execution_count": 34,
   "id": "19f91e12",
   "metadata": {},
   "outputs": [
    {
     "data": {
      "text/plain": [
       "[2, 4, 6, 8, 10]"
      ]
     },
     "execution_count": 34,
     "metadata": {},
     "output_type": "execute_result"
    }
   ],
   "source": [
    "[i for i in range(1, 11) if i%2==0]  # list comprehension dengan kondisi"
   ]
  },
  {
   "cell_type": "code",
   "execution_count": 33,
   "id": "e6c6515e",
   "metadata": {},
   "outputs": [
    {
     "data": {
      "text/plain": [
       "[1, 3, 5, 7, 9]"
      ]
     },
     "execution_count": 33,
     "metadata": {},
     "output_type": "execute_result"
    }
   ],
   "source": [
    "[i for i in range(1, 11) if i%2==1]  # list comprehension dengan kondisi"
   ]
  },
  {
   "cell_type": "code",
   "execution_count": null,
   "id": "c523706d",
   "metadata": {},
   "outputs": [
    {
     "name": "stdout",
     "output_type": "stream",
     "text": [
      "genap\n"
     ]
    }
   ],
   "source": [
    "print('genap') if 4 / 2 else print('ganjil')"
   ]
  },
  {
   "cell_type": "code",
   "execution_count": 40,
   "id": "128966a7",
   "metadata": {},
   "outputs": [
    {
     "data": {
      "text/plain": [
       "[2, 4, 6, 8, 10]"
      ]
     },
     "execution_count": 40,
     "metadata": {},
     "output_type": "execute_result"
    }
   ],
   "source": [
    "[num for num in range (1,11) if num %2 == 0 ]"
   ]
  },
  {
   "cell_type": "code",
   "execution_count": 41,
   "id": "0868e780",
   "metadata": {},
   "outputs": [
    {
     "data": {
      "text/plain": [
       "[1, 3, 5, 7, 9]"
      ]
     },
     "execution_count": 41,
     "metadata": {},
     "output_type": "execute_result"
    }
   ],
   "source": [
    "[num for num in range (1,11) if num %2 == 1 ]"
   ]
  },
  {
   "cell_type": "code",
   "execution_count": 50,
   "id": "c3ba0170",
   "metadata": {},
   "outputs": [
    {
     "name": "stdout",
     "output_type": "stream",
     "text": [
      "['genap', 'ganjil', 'genap', 'ganjil', 'genap', 'ganjil', 'genap', 'ganjil']\n"
     ]
    },
    {
     "data": {
      "text/plain": [
       "['genap', 'ganjil', 'genap', 'ganjil', 'genap', 'ganjil', 'genap', 'ganjil']"
      ]
     },
     "execution_count": 50,
     "metadata": {},
     "output_type": "execute_result"
    }
   ],
   "source": [
    "gan_gen = []\n",
    "plat_mobil = [2222, 3333, 4444, 5555, 6666, 7777, 8888, 9999]\n",
    "\n",
    "for i in plat_mobil:\n",
    "    if(i % 2 == 0):\n",
    "        gan_gen.append('genap')\n",
    "    else:\n",
    "        gan_gen.append('ganjil')\n",
    "print(gan_gen)\n",
    "\n",
    "['genap' if i % 2 == 0 else 'ganjil' for i in plat_mobil]"
   ]
  },
  {
   "cell_type": "code",
   "execution_count": null,
   "id": "6894ea8f",
   "metadata": {},
   "outputs": [
    {
     "name": "stdout",
     "output_type": "stream",
     "text": [
      "0 adhli\n",
      "1 raven\n",
      "2 ken\n"
     ]
    }
   ],
   "source": [
    "list_nama = [\"adhli\", \"raven\", \"ken\"]\n",
    "for index, list_nama in enumerate(list_nama):\n",
    "    print(index, list_nama)\n"
   ]
  },
  {
   "cell_type": "code",
   "execution_count": 55,
   "id": "1993ce4e",
   "metadata": {},
   "outputs": [
    {
     "name": "stdout",
     "output_type": "stream",
     "text": [
      "a\n",
      "d\n",
      "h\n",
      "l\n",
      "i\n",
      " \n",
      "t\n",
      "a\n",
      "m\n",
      "v\n",
      "a\n",
      "n\n"
     ]
    }
   ],
   "source": [
    "#string itu iterable\n",
    "str = 'adhli tamvan'\n",
    "for huruf in str:\n",
    "    print(huruf)"
   ]
  },
  {
   "cell_type": "code",
   "execution_count": 56,
   "id": "6fcb40af",
   "metadata": {},
   "outputs": [
    {
     "name": "stdout",
     "output_type": "stream",
     "text": [
      "['adhli', 'tamvan']\n"
     ]
    }
   ],
   "source": [
    "tampung = str.split()\n",
    "print(tampung)"
   ]
  },
  {
   "cell_type": "code",
   "execution_count": 59,
   "id": "2a8b1d43",
   "metadata": {},
   "outputs": [
    {
     "data": {
      "text/plain": [
       "['1', '2022-10-01 00:00:00.0', '1', 'COMPLETE']"
      ]
     },
     "execution_count": 59,
     "metadata": {},
     "output_type": "execute_result"
    }
   ],
   "source": [
    "order = '1,2022-10-01 00:00:00.0,1,COMPLETE'\n",
    "type(order)\n",
    "\n",
    "order.split(sep = ',')"
   ]
  },
  {
   "cell_type": "code",
   "execution_count": 63,
   "id": "15947f6f",
   "metadata": {},
   "outputs": [
    {
     "data": {
      "text/plain": [
       "'2022-10-01 00:00:00.0'"
      ]
     },
     "execution_count": 63,
     "metadata": {},
     "output_type": "execute_result"
    }
   ],
   "source": [
    "#ambil elemen timestampnya\n",
    "order.split(sep = ',')[1]\n"
   ]
  },
  {
   "cell_type": "code",
   "execution_count": 67,
   "id": "a010ef13",
   "metadata": {},
   "outputs": [
    {
     "data": {
      "text/plain": [
       "'COMPLETE'"
      ]
     },
     "execution_count": 67,
     "metadata": {},
     "output_type": "execute_result"
    }
   ],
   "source": [
    "#ambil elemen terakhirnya\n",
    "order.split(sep = ',')[-1]"
   ]
  },
  {
   "cell_type": "code",
   "execution_count": 68,
   "id": "aa4f8f4b",
   "metadata": {},
   "outputs": [
    {
     "data": {
      "text/plain": [
       "'complete'"
      ]
     },
     "execution_count": 68,
     "metadata": {},
     "output_type": "execute_result"
    }
   ],
   "source": [
    "order.split(sep = ',')[-1].lower()  # mengubah huruf terakhir menjadi huruf kecil"
   ]
  },
  {
   "cell_type": "code",
   "execution_count": 69,
   "id": "6d11110c",
   "metadata": {},
   "outputs": [
    {
     "data": {
      "text/plain": [
       "1"
      ]
     },
     "execution_count": 69,
     "metadata": {},
     "output_type": "execute_result"
    }
   ],
   "source": [
    "#ambil order_id dalam bentuk integer\n",
    "int(order.split(sep = ',')[0])"
   ]
  },
  {
   "cell_type": "code",
   "execution_count": 70,
   "id": "bf1f7f5b",
   "metadata": {},
   "outputs": [
    {
     "ename": "TypeError",
     "evalue": "'tuple' object doesn't support item deletion",
     "output_type": "error",
     "traceback": [
      "\u001b[31m---------------------------------------------------------------------------\u001b[39m",
      "\u001b[31mTypeError\u001b[39m                                 Traceback (most recent call last)",
      "\u001b[36mCell\u001b[39m\u001b[36m \u001b[39m\u001b[32mIn[70]\u001b[39m\u001b[32m, line 2\u001b[39m\n\u001b[32m      1\u001b[39m tup1 = (\u001b[33m\"\u001b[39m\u001b[33mRohan\u001b[39m\u001b[33m\"\u001b[39m, \u001b[33m\"\u001b[39m\u001b[33mPhysics\u001b[39m\u001b[33m\"\u001b[39m, \u001b[32m21\u001b[39m, \u001b[32m69.75\u001b[39m)\n\u001b[32m----> \u001b[39m\u001b[32m2\u001b[39m \u001b[38;5;28;01mdel\u001b[39;00m \u001b[43mtup1\u001b[49m\u001b[43m[\u001b[49m\u001b[32;43m0\u001b[39;49m\u001b[43m]\u001b[49m\n",
      "\u001b[31mTypeError\u001b[39m: 'tuple' object doesn't support item deletion"
     ]
    }
   ],
   "source": [
    "tup1 = (\"Rohan\", \"Physics\", 21, 69.75)\n",
    "del tup1[0]"
   ]
  },
  {
   "cell_type": "code",
   "execution_count": 72,
   "id": "36a98ff5",
   "metadata": {},
   "outputs": [
    {
     "name": "stdout",
     "output_type": "stream",
     "text": [
      "{1, 2, 3, 4, 5}\n"
     ]
    }
   ],
   "source": [
    "my_set = {1, 2, 2, 3, 3, 4, 5, 5}\n",
    "print(my_set)"
   ]
  },
  {
   "cell_type": "code",
   "execution_count": 77,
   "id": "05568b18",
   "metadata": {},
   "outputs": [
    {
     "name": "stdout",
     "output_type": "stream",
     "text": [
      "Dictionary using curly braces: {'name': 'Rafael Nadal', 'age': 35, 'sport': 'Tennis', 'ranking': 2, 'grand_slams': 20}\n",
      "Dictionary using dict(): {'name': 'John Doe', 'age': 20, 'major': 'Computer Science'}\n"
     ]
    }
   ],
   "source": [
    "sports_player = {\n",
    "    \"name\": \"Rafael Nadal\",\n",
    "    \"age\": 35,\n",
    "    \"sport\": \"Tennis\",\n",
    "    \"ranking\": 2,\n",
    "    \"grand_slams\": 20\n",
    "}\n",
    "print(\"Dictionary using curly braces:\", sports_player)\n",
    "\n",
    "student_info = dict(name=\"John Doe\", age=20, major=\"Computer Science\")\n",
    "print(\"Dictionary using dict():\", student_info)"
   ]
  },
  {
   "cell_type": "code",
   "execution_count": 84,
   "id": "e1535f7f",
   "metadata": {},
   "outputs": [
    {
     "name": "stdout",
     "output_type": "stream",
     "text": [
      "name : John Doe\n",
      "age : 20\n",
      "major : Computer Science\n"
     ]
    }
   ],
   "source": [
    "student_info={\n",
    "    \"name\": \"John Doe\",\n",
    "    \"age\": 20,\n",
    "    \"major\": \"Computer Science\"\n",
    "}\n",
    "#iterating through keys\n",
    "for key in student_info:\n",
    "    print(key, \":\", student_info[key])"
   ]
  },
  {
   "cell_type": "code",
   "execution_count": 82,
   "id": "84ea698a",
   "metadata": {},
   "outputs": [
    {
     "name": "stdout",
     "output_type": "stream",
     "text": [
      "John Doe\n",
      "20\n",
      "Computer Science\n"
     ]
    }
   ],
   "source": [
    "#iterating through values\n",
    "for value in student_info.values():\n",
    "    print(value)\n"
   ]
  },
  {
   "cell_type": "code",
   "execution_count": 83,
   "id": "a4f6af68",
   "metadata": {},
   "outputs": [
    {
     "name": "stdout",
     "output_type": "stream",
     "text": [
      "name : John Doe\n",
      "age : 20\n",
      "major : Computer Science\n"
     ]
    }
   ],
   "source": [
    "#iterating through key-value pairs\n",
    "for key, value in student_info.items():\n",
    "    print(key, \":\", value)"
   ]
  },
  {
   "cell_type": "code",
   "execution_count": null,
   "id": "a29a7923",
   "metadata": {},
   "outputs": [],
   "source": [
    "orderd = {\n",
    "    'order_id': 1,\n",
    "    'order_date': '2013-07-25 00:00:00.0',\n",
    "    'order_customer_id': 11599,\n",
    "    'order_status': 'CLOSED'\n",
    "}"
   ]
  },
  {
   "cell_type": "code",
   "execution_count": 105,
   "id": "e77d2a48",
   "metadata": {},
   "outputs": [
    {
     "name": "stdout",
     "output_type": "stream",
     "text": [
      "keys: order_id\n",
      "keys: order_date\n",
      "keys: order_customer_id\n",
      "keys: order_status\n",
      "dict_keys(['order_id', 'order_date', 'order_customer_id', 'order_status'])\n"
     ]
    }
   ],
   "source": [
    "#tampilkan semua keys\n",
    "for key in orderd:\n",
    "    print(\"keys:\", key )\n",
    "\n",
    "print(orderd.keys())"
   ]
  },
  {
   "cell_type": "code",
   "execution_count": 106,
   "id": "ab464d53",
   "metadata": {},
   "outputs": [
    {
     "name": "stdout",
     "output_type": "stream",
     "text": [
      "values: 1\n",
      "values: 2013-07-25 00:00:00.0\n",
      "values: 11599\n",
      "values: CLOSED\n"
     ]
    },
    {
     "data": {
      "text/plain": [
       "dict_values([1, '2013-07-25 00:00:00.0', 11599, 'CLOSED'])"
      ]
     },
     "execution_count": 106,
     "metadata": {},
     "output_type": "execute_result"
    }
   ],
   "source": [
    "#tampilkan semua values\n",
    "for value in orderd.values():\n",
    "    print(\"values:\",value)\n",
    "\n",
    "orderd.values()"
   ]
  },
  {
   "cell_type": "code",
   "execution_count": 108,
   "id": "ef93e3c3",
   "metadata": {},
   "outputs": [
    {
     "data": {
      "text/plain": [
       "11599"
      ]
     },
     "execution_count": 108,
     "metadata": {},
     "output_type": "execute_result"
    }
   ],
   "source": [
    "#ambil order_customer_id\n",
    "orderd['order_customer_id']\n",
    "orderd.get('order_customer_id')"
   ]
  },
  {
   "cell_type": "code",
   "execution_count": 109,
   "id": "564bc4f5",
   "metadata": {},
   "outputs": [
    {
     "name": "stdout",
     "output_type": "stream",
     "text": [
      "Key: order_id, Value: 1 with Type: <class 'int'>\n",
      "Key: order_date, Value: 2013-07-25 00:00:00.0 with Type: <class 'str'>\n",
      "Key: order_customer_id, Value: 11599 with Type: <class 'int'>\n",
      "Key: order_status, Value: CLOSED with Type: <class 'str'>\n"
     ]
    }
   ],
   "source": [
    "#iterate dan tampilkan keys, values dan tipe datanya\n",
    "for key, value in orderd.items():\n",
    "    print(f\"Key: {key}, Value: {value} with Type: {type(value)}\") "
   ]
  },
  {
   "cell_type": "code",
   "execution_count": 117,
   "id": "486bb9b6",
   "metadata": {},
   "outputs": [
    {
     "data": {
      "text/plain": [
       "{'age': 20, 'major': 'Engineering'}"
      ]
     },
     "execution_count": 117,
     "metadata": {},
     "output_type": "execute_result"
    }
   ],
   "source": [
    "students = {\n",
    "    \"Alice\": {\"age\": 21, \"major\": \"Computer Science\"},\n",
    "    \"Bob\": {\"age\": 20, \"major\": \"Engineering\"},\n",
    "    \"Charlie\": {\"age\": 22, \"major\": \"Mathematics\"}\n",
    "}\n",
    "\n",
    "#tampilkan data bob\n",
    "students[\"Bob\"]"
   ]
  },
  {
   "cell_type": "code",
   "execution_count": 122,
   "id": "c84bff80",
   "metadata": {},
   "outputs": [
    {
     "data": {
      "text/plain": [
       "21"
      ]
     },
     "execution_count": 122,
     "metadata": {},
     "output_type": "execute_result"
    }
   ],
   "source": [
    "#tampilkan umur alice\n",
    "students[\"Alice\"]['age']"
   ]
  },
  {
   "cell_type": "code",
   "execution_count": 126,
   "id": "4f95cb05",
   "metadata": {},
   "outputs": [
    {
     "data": {
      "text/plain": [
       "'Data Science'"
      ]
     },
     "execution_count": 126,
     "metadata": {},
     "output_type": "execute_result"
    }
   ],
   "source": [
    "#Ubah major Charlie menjadi 'Data Science'\n",
    "students[\"Charlie\"]['major'] = 'Data Science'\n",
    "students[\"Charlie\"]['major']"
   ]
  },
  {
   "cell_type": "code",
   "execution_count": 129,
   "id": "2b53b4df",
   "metadata": {},
   "outputs": [
    {
     "name": "stdout",
     "output_type": "stream",
     "text": [
      "Nama: Alice\n",
      "age:21\n",
      "major:Computer Science\n",
      "\n",
      "Nama: Bob\n",
      "age:20\n",
      "major:Engineering\n",
      "\n",
      "Nama: Charlie\n",
      "age:22\n",
      "major:Data Science\n",
      "\n"
     ]
    }
   ],
   "source": [
    "#iterate dan tampilkan nama mahasiswa dan semua datanya\n",
    "# for key, value in students.items():\n",
    "#     print(f\"Key: {key}, Value: {value}\") \n",
    "\n",
    "\n",
    "for name, details in students.items():\n",
    "    print(f'Nama: {name}')\n",
    "    for key, value in details.items():\n",
    "        print(f'{key}:{value}')\n",
    "    print()"
   ]
  },
  {
   "cell_type": "code",
   "execution_count": 1,
   "id": "bc60b0a5",
   "metadata": {},
   "outputs": [],
   "source": [
    "def kuadrat(n):\n",
    "    return n**2"
   ]
  },
  {
   "cell_type": "code",
   "execution_count": 2,
   "id": "99ce8dc9",
   "metadata": {},
   "outputs": [
    {
     "data": {
      "text/plain": [
       "25"
      ]
     },
     "execution_count": 2,
     "metadata": {},
     "output_type": "execute_result"
    }
   ],
   "source": [
    "kuadrat(5)"
   ]
  },
  {
   "cell_type": "code",
   "execution_count": null,
   "id": "cce606a4",
   "metadata": {},
   "outputs": [],
   "source": []
  }
 ],
 "metadata": {
  "kernelspec": {
   "display_name": ".venv",
   "language": "python",
   "name": "python3"
  },
  "language_info": {
   "codemirror_mode": {
    "name": "ipython",
    "version": 3
   },
   "file_extension": ".py",
   "mimetype": "text/x-python",
   "name": "python",
   