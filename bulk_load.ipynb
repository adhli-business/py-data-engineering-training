{
 "cells": [
  {
   "cell_type": "code",
   "execution_count": 191,
   "id": "65a497c8",
   "metadata": {},
   "outputs": [],
   "source": [
    "import glob"
   ]
  },
  {
   "cell_type": "code",
   "execution_count": 192,
   "id": "7caded40",
   "metadata": {},
   "outputs": [
    {
     "name": "stdout",
     "output_type": "stream",
     "text": [
      "Help on module glob:\n",
      "\n",
      "NAME\n",
      "    glob - Filename globbing utility.\n",
      "\n",
      "MODULE REFERENCE\n",
      "    https://docs.python.org/3.13/library/glob.html\n",
      "\n",
      "    The following documentation is automatically generated from the Python\n",
      "    source files.  It may be incomplete, incorrect or include features that\n",
      "    are considered implementation detail and may vary between Python\n",
      "    implementations.  When in doubt, consult the module reference at the\n",
      "    location listed above.\n",
      "\n",
      "FUNCTIONS\n",
      "    escape(pathname)\n",
      "        Escape all special characters.\n",
      "\n",
      "    glob(\n",
      "        pathname,\n",
      "        *,\n",
      "        root_dir=None,\n",
      "        dir_fd=None,\n",
      "        recursive=False,\n",
      "        include_hidden=False\n",
      "    )\n",
      "        Return a list of paths matching a pathname pattern.\n",
      "\n",
      "        The pattern may contain simple shell-style wildcards a la\n",
      "        fnmatch. Unlike fnmatch, filenames starting with a\n",
      "        dot are special cases that are not matched by '*' and '?'\n",
      "        patterns by default.\n",
      "\n",
      "        If `include_hidden` is true, the patterns '*', '?', '**'  will match hidden\n",
      "        directories.\n",
      "\n",
      "        If `recursive` is true, the pattern '**' will match any files and\n",
      "        zero or more directories and subdirectories.\n",
      "\n",
      "    iglob(\n",
      "        pathname,\n",
      "        *,\n",
      "        root_dir=None,\n",
      "        dir_fd=None,\n",
      "        recursive=False,\n",
      "        include_hidden=False\n",
      "    )\n",
      "        Return an iterator which yields the paths matching a pathname pattern.\n",
      "\n",
      "        The pattern may contain simple shell-style wildcards a la\n",
      "        fnmatch. However, unlike fnmatch, filenames starting with a\n",
      "        dot are special cases that are not matched by '*' and '?'\n",
      "        patterns.\n",
      "\n",
      "        If recursive is true, the pattern '**' will match any files and\n",
      "        zero or more directories and subdirectories.\n",
      "\n",
      "    translate(pat, *, recursive=False, include_hidden=False, seps=None)\n",
      "        Translate a pathname with shell wildcards to a regular expression.\n",
      "\n",
      "        If `recursive` is true, the pattern segment '**' will match any number of\n",
      "        path segments.\n",
      "\n",
      "        If `include_hidden` is true, wildcards can match path segments beginning\n",
      "        with a dot ('.').\n",
      "\n",
      "        If a sequence of separator characters is given to `seps`, they will be\n",
      "        used to split the pattern into segments and match path separators. If not\n",
      "        given, os.path.sep and os.path.altsep (where available) are used.\n",
      "\n",
      "DATA\n",
      "    __all__ = ['glob', 'iglob', 'escape', 'translate']\n",
      "\n",
      "FILE\n",
      "    c:\\users\\71480\\appdata\\local\\programs\\python\\python313\\lib\\glob.py\n",
      "\n",
      "\n"
     ]
    }
   ],
   "source": [
    "help(glob)"
   ]
  },
  {
   "cell_type": "code",
   "execution_count": 193,
   "id": "74cfddd2",
   "metadata": {},
   "outputs": [
    {
     "data": {
      "text/plain": [
       "['./data/retail_db\\\\',\n",
       " './data/retail_db\\\\categories',\n",
       " './data/retail_db\\\\categories\\\\part-00000',\n",
       " './data/retail_db\\\\create_db.sql',\n",
       " './data/retail_db\\\\create_db_tables_pg.sql',\n",
       " './data/retail_db\\\\customers',\n",
       " './data/retail_db\\\\customers\\\\part-00000',\n",
       " './data/retail_db\\\\departments',\n",
       " './data/retail_db\\\\departments\\\\part-00000',\n",
       " './data/retail_db\\\\learn_rank_partition.sql',\n",
       " './data/retail_db\\\\load_db_tables_pg.sql',\n",
       " './data/retail_db\\\\orders',\n",
       " './data/retail_db\\\\orders\\\\part-00000',\n",
       " './data/retail_db\\\\order_items',\n",
       " './data/retail_db\\\\order_items\\\\part-00000',\n",
       " './data/retail_db\\\\products',\n",
       " './data/retail_db\\\\products\\\\part-00000',\n",
       " './data/retail_db\\\\README.md',\n",
       " './data/retail_db\\\\saigon_canvas.sql',\n",
       " './data/retail_db\\\\schemas.json']"
      ]
     },
     "execution_count": 193,
     "metadata": {},
     "output_type": "execute_result"
    }
   ],
   "source": [
    "glob.glob('./data/retail_db/**', recursive=True)"
   ]
  },
  {
   "cell_type": "code",
   "execution_count": 194,
   "id": "ab3dbffa",
   "metadata": {},
   "outputs": [
    {
     "data": {
      "text/plain": [
       "['./data/retail_db\\\\categories\\\\part-00000',\n",
       " './data/retail_db\\\\customers\\\\part-00000',\n",
       " './data/retail_db\\\\departments\\\\part-00000',\n",
       " './data/retail_db\\\\orders\\\\part-00000',\n",
       " './data/retail_db\\\\order_items\\\\part-00000',\n",
       " './data/retail_db\\\\products\\\\part-00000']"
      ]
     },
     "execution_count": 194,
     "metadata": {},
     "output_type": "execute_result"
    }
   ],
   "source": [
    "glob.glob('./data/retail_db/*/*')"
   ]
  },
  {
   "cell_type": "code",
   "execution_count": 195,
   "id": "ad191bf8",
   "metadata": {},
   "outputs": [
    {
     "data": {
      "text/plain": [
       "['./data/retail_db\\\\categories\\\\part-00000',\n",
       " './data/retail_db\\\\customers\\\\part-00000',\n",
       " './data/retail_db\\\\departments\\\\part-00000',\n",
       " './data/retail_db\\\\orders\\\\part-00000',\n",
       " './data/retail_db\\\\order_items\\\\part-00000',\n",
       " './data/retail_db\\\\products\\\\part-00000']"
      ]
     },
     "execution_count": 195,
     "metadata": {},
     "output_type": "execute_result"
    }
   ],
   "source": [
    "src_file_names = glob.glob('./data/retail_db/*/part-*')\n",
    "src_file_names"
   ]
  },
  {
   "cell_type": "code",
   "execution_count": 196,
   "id": "96daf8bc",
   "metadata": {},
   "outputs": [
    {
     "name": "stdout",
     "output_type": "stream",
     "text": [
      "Shape of ./data/retail_db\\categories\\part-00000 is (58, 3)\n",
      "Shape of ./data/retail_db\\customers\\part-00000 is (12435, 9)\n",
      "Shape of ./data/retail_db\\departments\\part-00000 is (6, 2)\n",
      "Shape of ./data/retail_db\\orders\\part-00000 is (68883, 4)\n",
      "Shape of ./data/retail_db\\order_items\\part-00000 is (172198, 6)\n",
      "Shape of ./data/retail_db\\products\\part-00000 is (1345, 6)\n"
     ]
    }
   ],
   "source": [
    "import pandas as pd\n",
    "for file_name in src_file_names:\n",
    "    df = pd.read_csv(file_name, header = None)\n",
    "    print(f'Shape of {file_name} is {df.shape}')"
   ]
  },
  {
   "cell_type": "code",
   "execution_count": 197,
   "id": "3c8a64c9",
   "metadata": {},
   "outputs": [
    {
     "name": "stderr",
     "output_type": "stream",
     "text": [
      "<>:1: SyntaxWarning: invalid escape sequence '\\c'\n",
      "<>:1: SyntaxWarning: invalid escape sequence '\\c'\n",
      "C:\\Users\\71480\\AppData\\Local\\Temp\\ipykernel_22716\\3754191647.py:1: SyntaxWarning: invalid escape sequence '\\c'\n",
      "  s = 's/a\\\\b\\c'\n"
     ]
    },
    {
     "data": {
      "text/plain": [
       "['s', 'a\\\\b\\\\c']"
      ]
     },
     "execution_count": 197,
     "metadata": {},
     "output_type": "execute_result"
    }
   ],
   "source": [
    "s = 's/a\\\\b\\c'\n",
    "s.split('/')"
   ]
  },
  {
   "cell_type": "code",
   "execution_count": 198,
   "id": "724f5fc7",
   "metadata": {},
   "outputs": [
    {
     "data": {
      "text/plain": [
       "['s/a', 'b', 'c']"
      ]
     },
     "execution_count": 198,
     "metadata": {},
     "output_type": "execute_result"
    }
   ],
   "source": [
    "s.split('\\\\')"
   ]
  },
  {
   "cell_type": "code",
   "execution_count": 199,
   "id": "fe93d2d5",
   "metadata": {},
   "outputs": [
    {
     "data": {
      "text/plain": [
       "['s', 'a', 'b', 'c']"
      ]
     },
     "execution_count": 199,
     "metadata": {},
     "output_type": "execute_result"
    }
   ],
   "source": [
    "#regular expression\n",
    "import re\n",
    "re.split('[/\\\\\\\\]', s)"
   ]
  },
  {
   "cell_type": "code",
   "execution_count": 200,
   "id": "c94d748b",
   "metadata": {},
   "outputs": [
    {
     "name": "stdout",
     "output_type": "stream",
     "text": [
      "['data', 'retail_db', 'categories', 'part-00000']\n",
      "['data', 'retail_db', 'customers', 'part-00000']\n",
      "['data', 'retail_db', 'departments', 'part-00000']\n",
      "['data', 'retail_db', 'orders', 'part-00000']\n",
      "['data', 'retail_db', 'order_items', 'part-00000']\n",
      "['data', 'retail_db', 'products', 'part-00000']\n"
     ]
    }
   ],
   "source": [
    "for file in src_file_names:\n",
    "    print(re.split('[/\\\\\\\\]', file)[1:])"
   ]
  },
  {
   "cell_type": "markdown",
   "id": "df909600",
   "metadata": {},
   "source": [
    "Tugas dulu bos"
   ]
  },
  {
   "cell_type": "code",
   "execution_count": 201,
   "id": "29288d38",
   "metadata": {},
   "outputs": [],
   "source": [
    "import json"
   ]
  },
  {
   "cell_type": "code",
   "execution_count": 202,
   "id": "b3e4f595",
   "metadata": {},
   "outputs": [
    {
     "data": {
      "text/plain": [
       "<_io.TextIOWrapper name='data/retail_db/schemas.json' mode='r' encoding='cp1252'>"
      ]
     },
     "execution_count": 202,
     "metadata": {},
     "output_type": "execute_result"
    }
   ],
   "source": [
    "file_path = 'data/retail_db/schemas.json'\n",
    "open(file_path, 'r')"
   ]
  },
  {
   "cell_type": "code",
   "execution_count": 203,
   "id": "305734b5",
   "metadata": {},
   "outputs": [],
   "source": [
    "schemas = json.load(open(file_path, 'r')) #load dipakai untuk ambil dari files"
   ]
  },
  {
   "cell_type": "code",
   "execution_count": 204,
   "id": "9b26256f",
   "metadata": {},
   "outputs": [],
   "source": [
    "def get_column_names(schemas, table):\n",
    "    return [col['column_name'] for col in sorted(schemas[table], key=lambda col: int(col[\"column_position\"]))]"
   ]
  },
  {
   "cell_type": "code",
   "execution_count": 205,
   "id": "de735568",
   "metadata": {},
   "outputs": [
    {
     "name": "stdout",
     "output_type": "stream",
     "text": [
      "Shape of ./data/retail_db\\categories\\part-00000 is (58, 3)\n",
      "Columns: ['category_id', 'category_department_id', 'category_name']\n",
      "Shape of ./data/retail_db\\customers\\part-00000 is (12435, 9)\n",
      "Columns: ['customer_id', 'customer_fname', 'customer_lname', 'customer_email', 'customer_password', 'customer_street', 'customer_city', 'customer_state', 'customer_zipcode']\n",
      "Shape of ./data/retail_db\\departments\\part-00000 is (6, 2)\n",
      "Columns: ['department_id', 'department_name']\n",
      "Shape of ./data/retail_db\\orders\\part-00000 is (68883, 4)\n",
      "Columns: ['order_id', 'order_date', 'order_customer_id', 'order_status']\n",
      "Shape of ./data/retail_db\\order_items\\part-00000 is (172198, 6)\n",
      "Columns: ['order_item_id', 'order_item_order_id', 'order_item_product_id', 'order_item_quantity', 'order_item_subtotal', 'order_item_product_price']\n",
      "Shape of ./data/retail_db\\products\\part-00000 is (1345, 6)\n",
      "Columns: ['product_id', 'product_cateogry_id', 'product_name', 'product_description', 'product_price', 'product_image']\n"
     ]
    }
   ],
   "source": [
    "# baca setiap file (read_csv)\n",
    "# dan tampilkan shape (baris, kolom)\n",
    "# pada setiap folder \n",
    "# menggunakan nama kolom yang ada pada schemas\n",
    "# hint: gunakan fungsi get_column_names(schemas, table)\n",
    "for file in src_file_names:\n",
    "    table_name = re.split('[/\\\\\\\\]', file)[3]\n",
    "    df = pd.read_csv(file, header=None, names=get_column_names(schemas, table_name))\n",
    "    print(f'Shape of {file} is {df.shape}')\n",
    "    print(f'Columns: {df.columns.tolist()}')"
   ]
  },
  {
   "cell_type": "code",
   "execution_count": 206,
   "id": "ba1af132",
   "metadata": {},
   "outputs": [
    {
     "data": {
      "text/html": [
       "<div>\n",
       "<style scoped>\n",
       "    .dataframe tbody tr th:only-of-type {\n",
       "        vertical-align: middle;\n",
       "    }\n",
       "\n",
       "    .dataframe tbody tr th {\n",
       "        vertical-align: top;\n",
       "    }\n",
       "\n",
       "    .dataframe thead th {\n",
       "        text-align: right;\n",
       "    }\n",
       "</style>\n",
       "<table border=\"1\" class=\"dataframe\">\n",
       "  <thead>\n",
       "    <tr style=\"text-align: right;\">\n",
       "      <th></th>\n",
       "      <th>product_id</th>\n",
       "      <th>product_cateogry_id</th>\n",
       "      <th>product_name</th>\n",
       "      <th>product_description</th>\n",
       "      <th>product_price</th>\n",
       "      <th>product_image</th>\n",
       "    </tr>\n",
       "  </thead>\n",
       "  <tbody>\n",
       "    <tr>\n",
       "      <th>0</th>\n",
       "      <td>1</td>\n",
       "      <td>2</td>\n",
       "      <td>Quest Q64 10 FT. x 10 FT. Slant Leg Instant U</td>\n",
       "      <td>NaN</td>\n",
       "      <td>59.98</td>\n",
       "      <td>http://images.acmesports.sports/Quest+Q64+10+F...</td>\n",
       "    </tr>\n",
       "    <tr>\n",
       "      <th>1</th>\n",
       "      <td>2</td>\n",
       "      <td>2</td>\n",
       "      <td>Under Armour Men's Highlight MC Football Clea</td>\n",
       "      <td>NaN</td>\n",
       "      <td>129.99</td>\n",
       "      <td>http://images.acmesports.sports/Under+Armour+M...</td>\n",
       "    </tr>\n",
       "    <tr>\n",
       "      <th>2</th>\n",
       "      <td>3</td>\n",
       "      <td>2</td>\n",
       "      <td>Under Armour Men's Renegade D Mid Football Cl</td>\n",
       "      <td>NaN</td>\n",
       "      <td>89.99</td>\n",
       "      <td>http://images.acmesports.sports/Under+Armour+M...</td>\n",
       "    </tr>\n",
       "    <tr>\n",
       "      <th>3</th>\n",
       "      <td>4</td>\n",
       "      <td>2</td>\n",
       "      <td>Under Armour Men's Renegade D Mid Football Cl</td>\n",
       "      <td>NaN</td>\n",
       "      <td>89.99</td>\n",
       "      <td>http://images.acmesports.sports/Under+Armour+M...</td>\n",
       "    </tr>\n",
       "    <tr>\n",
       "      <th>4</th>\n",
       "      <td>5</td>\n",
       "      <td>2</td>\n",
       "      <td>Riddell Youth Revolution Speed Custom Footbal</td>\n",
       "      <td>NaN</td>\n",
       "      <td>199.99</td>\n",
       "      <td>http://images.acmesports.sports/Riddell+Youth+...</td>\n",
       "    </tr>\n",
       "    <tr>\n",
       "      <th>...</th>\n",
       "      <td>...</td>\n",
       "      <td>...</td>\n",
       "      <td>...</td>\n",
       "      <td>...</td>\n",
       "      <td>...</td>\n",
       "      <td>...</td>\n",
       "    </tr>\n",
       "    <tr>\n",
       "      <th>1340</th>\n",
       "      <td>1341</td>\n",
       "      <td>59</td>\n",
       "      <td>Nike Women's Cleveland Browns Johnny Football</td>\n",
       "      <td>NaN</td>\n",
       "      <td>34.00</td>\n",
       "      <td>http://images.acmesports.sports/Nike+Women%27s...</td>\n",
       "    </tr>\n",
       "    <tr>\n",
       "      <th>1341</th>\n",
       "      <td>1342</td>\n",
       "      <td>59</td>\n",
       "      <td>Nike Men's St. Louis Rams Michael Sam #96 Nam</td>\n",
       "      <td>NaN</td>\n",
       "      <td>32.00</td>\n",
       "      <td>http://images.acmesports.sports/Nike+Men%27s+S...</td>\n",
       "    </tr>\n",
       "    <tr>\n",
       "      <th>1342</th>\n",
       "      <td>1343</td>\n",
       "      <td>59</td>\n",
       "      <td>Nike Men's Home Game Jersey St. Louis Rams Mi</td>\n",
       "      <td>NaN</td>\n",
       "      <td>100.00</td>\n",
       "      <td>http://images.acmesports.sports/Nike+Men%27s+H...</td>\n",
       "    </tr>\n",
       "    <tr>\n",
       "      <th>1343</th>\n",
       "      <td>1344</td>\n",
       "      <td>59</td>\n",
       "      <td>Nike Men's Home Game Jersey St. Louis Rams Aa</td>\n",
       "      <td>NaN</td>\n",
       "      <td>100.00</td>\n",
       "      <td>http://images.acmesports.sports/Nike+Men%27s+H...</td>\n",
       "    </tr>\n",
       "    <tr>\n",
       "      <th>1344</th>\n",
       "      <td>1345</td>\n",
       "      <td>59</td>\n",
       "      <td>Nike Men's Home Game Jersey St. Louis Rams Gr</td>\n",
       "      <td>NaN</td>\n",
       "      <td>100.00</td>\n",
       "      <td>http://images.acmesports.sports/Nike+Men%27s+H...</td>\n",
       "    </tr>\n",
       "  </tbody>\n",
       "</table>\n",
       "<p>1345 rows × 6 columns</p>\n",
       "</div>"
      ],
      "text/plain": [
       "      product_id  product_cateogry_id  \\\n",
       "0              1                    2   \n",
       "1              2                    2   \n",
       "2              3                    2   \n",
       "3              4                    2   \n",
       "4              5                    2   \n",
       "...          ...                  ...   \n",
       "1340        1341                   59   \n",
       "1341        1342                   59   \n",
       "1342        1343                   59   \n",
       "1343        1344                   59   \n",
       "1344        1345                   59   \n",
       "\n",
       "                                       product_name  product_description  \\\n",
       "0     Quest Q64 10 FT. x 10 FT. Slant Leg Instant U                  NaN   \n",
       "1     Under Armour Men's Highlight MC Football Clea                  NaN   \n",
       "2     Under Armour Men's Renegade D Mid Football Cl                  NaN   \n",
       "3     Under Armour Men's Renegade D Mid Football Cl                  NaN   \n",
       "4     Riddell Youth Revolution Speed Custom Footbal                  NaN   \n",
       "...                                             ...                  ...   \n",
       "1340  Nike Women's Cleveland Browns Johnny Football                  NaN   \n",
       "1341  Nike Men's St. Louis Rams Michael Sam #96 Nam                  NaN   \n",
       "1342  Nike Men's Home Game Jersey St. Louis Rams Mi                  NaN   \n",
       "1343  Nike Men's Home Game Jersey St. Louis Rams Aa                  NaN   \n",
       "1344  Nike Men's Home Game Jersey St. Louis Rams Gr                  NaN   \n",
       "\n",
       "      product_price                                      product_image  \n",
       "0             59.98  http://images.acmesports.sports/Quest+Q64+10+F...  \n",
       "1            129.99  http://images.acmesports.sports/Under+Armour+M...  \n",
       "2             89.99  http://images.acmesports.sports/Under+Armour+M...  \n",
       "3             89.99  http://images.acmesports.sports/Under+Armour+M...  \n",
       "4            199.99  http://images.acmesports.sports/Riddell+Youth+...  \n",
       "...             ...                                                ...  \n",
       "1340          34.00  http://images.acmesports.sports/Nike+Women%27s...  \n",
       "1341          32.00  http://images.acmesports.sports/Nike+Men%27s+S...  \n",
       "1342         100.00  http://images.acmesports.sports/Nike+Men%27s+H...  \n",
       "1343         100.00  http://images.acmesports.sports/Nike+Men%27s+H...  \n",
       "1344         100.00  http://images.acmesports.sports/Nike+Men%27s+H...  \n",
       "\n",
       "[1345 rows x 6 columns]"
      ]
     },
     "execution_count": 206,
     "metadata": {},
     "output_type": "execute_result"
    }
   ],
   "source": [
    "df"
   ]
  },
  {
   "cell_type": "code",
   "execution_count": 207,
   "id": "2bce5a94",
   "metadata": {},
   "outputs": [
    {
     "name": "stdout",
     "output_type": "stream",
     "text": [
      "./data/retail_db\\categories\\part-00000\n",
      "./data/retail_db\\customers\\part-00000\n",
      "./data/retail_db\\departments\\part-00000\n",
      "./data/retail_db\\orders\\part-00000\n",
      "./data/retail_db\\order_items\\part-00000\n",
      "./data/retail_db\\products\\part-00000\n"
     ]
    }
   ],
   "source": [
    "for file in src_file_names:\n",
    "    print(file)"
   ]
  },
  {
   "cell_type": "code",
   "execution_count": null,
   "id": "164267f6",
   "metadata": {},
   "outputs": [],
   "source": [
    "# target dir\n",
    "target_base_dir = './data/retail_db_json'\n",
    "\n",
    "# contoh ambil nama file dari src_file_names yang pertama\n",
    "file_name = re.split('[/\\\\\\\\]', file)[-1]"
   ]
  },
  {
   "cell_type": "code",
   "execution_count": 209,
   "id": "89673c87",
   "metadata": {},
   "outputs": [
    {
     "name": "stdout",
     "output_type": "stream",
     "text": [
      "./data/retail_db_json/products/part-00000\n"
     ]
    }
   ],
   "source": [
    "print(f'{target_base_dir}/{table_name}/{file_name}')"
   ]
  },
  {
   "cell_type": "code",
   "execution_count": 214,
   "id": "5f152129",
   "metadata": {},
   "outputs": [
    {
     "name": "stdout",
     "output_type": "stream",
     "text": [
      "./data/retail_db_json/categories/part-00000\n",
      "./data/retail_db_json/customers/part-00000\n",
      "./data/retail_db_json/departments/part-00000\n",
      "./data/retail_db_json/orders/part-00000\n",
      "./data/retail_db_json/order_items/part-00000\n",
      "./data/retail_db_json/products/part-00000\n"
     ]
    }
   ],
   "source": [
    "for file in src_file_names:\n",
    "    table_name = re.split('[/\\\\\\\\]', file)[3]\n",
    "    file_name = re.split('[/\\\\\\\\]', file)[-1]\n",
    "    print(f'{target_base_dir}/{table_name}/{file_name}')\n",
    "    # os.makedirs(f'{target_base_dir}/{table_name}', exist_ok=True)\n",
    "    # df = pd.read_csv(file, header=None, names=get_column_names(schemas, table_name))\n",
    "    # df.to_json(f'{target_base_dir}/{table_name}/{file_name}', orient='records', lines=True)"
   ]
  },
  {
   "cell_type": "code",
   "execution_count": 216,
   "id": "358fb959",
   "metadata": {},
   "outputs": [
    {
     "name": "stdout",
     "output_type": "stream",
     "text": [
      "./data/retail_db_json/categories/part-00000\n",
      "./data/retail_db_json/customers/part-00000\n",
      "./data/retail_db_json/departments/part-00000\n",
      "./data/retail_db_json/orders/part-00000\n",
      "./data/retail_db_json/order_items/part-00000\n",
      "./data/retail_db_json/products/part-00000\n"
     ]
    }
   ],
   "source": [
    "for file in src_file_names:\n",
    "    file_path = re.split('[/\\\\\\\\]', file)\n",
    "    table_name = file_path[-2]\n",
    "    file_name = file_path[-1]\n",
    "    print(f'{target_base_dir}/{table_name}/{file_name}')"
   ]
  },
  {
   "cell_type": "code",
   "execution_count": null,
   "id": "64635e44",
   "metadata": {},
   "outputs": [],
   "source": [
    "# 1 - membuat target dir di os\n",
    "# 2 - menulis df ke target dir di atas\n",
    "df"
   ]
  },
  {
   "cell_type": "code",
   "execution_count": null,
   "id": "6f33e75a",
   "metadata": {},
   "outputs": [],
   "source": [
    "# 1 - buat dir\n",
    "import os\n",
    "os.makedirs('./data/retail_db_json/products', exist_ok=True)"
   ]
  },
  {
   "cell_type": "code",
   "execution_count": null,
   "id": "ba7fbb3b",
   "metadata": {},
   "outputs": [],
   "source": [
    "# 2 - menulis ke target dir\n",
    "df.to_json('./data/retail_db_json/products/part-00000',\n",
    "    orient='records',\n",
    "    lines=True\n",
    "    )"
   ]
  },
  {
   "cell_type": "code",
   "execution_count": 227,
   "id": "0f4f32f4",
   "metadata": {},
   "outputs": [],
   "source": [
    "for file in src_file_names:\n",
    "    file_path = re.split('[/\\\\\\\\]', file)\n",
    "    table_name = file_path[-2]\n",
    "    file_name = file_path[-1]\n",
    "    os.makedirs(f'{target_base_dir}/{table_name,2}', exist_ok=True)"
   ]
  }
 ],
 "metadata": {
  "kernelspec": {
   "display_name": ".venv",
   "language": "python",
   "name": "python3"
  },
  "language_info": {
   "codemirror_mode": {
    "name": "ipython",
    "version": 3
   },
   "file_extension": ".py",
   "mimetype": "text/x-python",
   "name": "python",
   "nbconvert_exporter": "python",
   "pygments_lexer": "ipython3",
   "version": "3.13.3"
  }
 },
 "nbformat": 4,
 "nbformat_minor": 5
}
